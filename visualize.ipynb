{
 "cells": [
  {
   "cell_type": "code",
   "execution_count": null,
   "metadata": {},
   "outputs": [],
   "source": [
    "# 코랩이면 실행안해도 되는 것 같습니다.\n",
    "%pip install pandas matplotlib tabulate"
   ]
  },
  {
   "cell_type": "markdown",
   "metadata": {
    "id": "fkpHc9S0Z69R"
   },
   "source": [
    "# 라벨링 표(한명만 실행)\n",
    "\n",
    "- 이건 한명이 개수 세서 만들면 될 것 같음\n",
    "- 제가 할게요(진호)\n"
   ]
  },
  {
   "cell_type": "code",
   "execution_count": 25,
   "metadata": {
    "colab": {
     "base_uri": "https://localhost:8080/",
     "height": 467
    },
    "id": "b1cAoFoeMaCO",
    "outputId": "134cd1bb-633c-4e89-ff0f-6f275dd40c7d"
   },
   "outputs": [
    {
     "name": "stdout",
     "output_type": "stream",
     "text": [
      "text\n",
      "╒════════════════════╤═══════════════════════════╤════════════════════════════╤══════════════════════════╤═════════════════════════════╤═══════════════════════════════╤══════════════════════╤═════════╕\n",
      "│                    │   Labeling: 0 (Dangerous) │   Labeling: 1 (Distracted) │   Labeling: 2 (Drinking) │   Labeling: 3 (SafeDriving) │   Labeling: 4 (SleepyDriving) │   Labeling: 5 (Yawn) │   Total │\n",
      "╞════════════════════╪═══════════════════════════╪════════════════════════════╪══════════════════════════╪═════════════════════════════╪═══════════════════════════════╪══════════════════════╪═════════╡\n",
      "│ Training dataset   │                         1 │                          1 │                        1 │                           1 │                             1 │                    1 │       1 │\n",
      "│ Validation dataset │                         2 │                          2 │                        2 │                           2 │                             2 │                    2 │       2 │\n",
      "│ Test dataset       │                         3 │                          3 │                        3 │                           3 │                             3 │                    3 │       3 │\n",
      "│ Total              │                         4 │                          4 │                        4 │                           4 │                             4 │                    4 │       4 │\n",
      "╘════════════════════╧═══════════════════════════╧════════════════════════════╧══════════════════════════╧═════════════════════════════╧═══════════════════════════════╧══════════════════════╧═════════╛\n",
      "image\n"
     ]
    },
    {
     "data": {
      "image/png": "[encoded data removed]",
      "text/plain": [
       "<Figure size 600x300 with 1 Axes>"
      ]
     },
     "metadata": {},
     "output_type": "display_data"
    }
   ],
   "source": [
    "import pandas as pd\n",
    "from tabulate import tabulate\n",
    "import matplotlib.pyplot as plt\n",
    "\n",
    "# 데이터 생성\n",
    "data = {\n",
    "    \"Labeling: 0 (Dangerous)\": [1, 2, 3, 4],\n",
    "    \"Labeling: 1 (Distracted)\": [1, 2, 3, 4],\n",
    "    \"Labeling: 2 (Drinking)\": [1, 2, 3, 4],\n",
    "    \"Labeling: 3 (SafeDriving)\": [1, 2, 3, 4],\n",
    "    \"Labeling: 4 (SleepyDriving)\": [1, 2, 3, 4],\n",
    "    \"Labeling: 5 (Yawn)\": [1, 2, 3, 4],\n",
    "    \"Total\": [1, 2, 3, 4],\n",
    "}\n",
    "index = [\"Training dataset\", \"Validation dataset\", \"Test dataset\", \"Total\"]\n",
    "df = pd.DataFrame(data, index=index)\n",
    "\n",
    "# tabulate로 텍스트 기반 표 생성\n",
    "table_text = tabulate(df, headers=\"keys\", tablefmt=\"fancy_outline\")\n",
    "\n",
    "print(\"text\")\n",
    "print(table_text)\n",
    "\n",
    "# Matplotlib으로 표를 이미지로 렌더링\n",
    "fig, ax = plt.subplots(figsize=(6, 3))\n",
    "ax.axis(\"off\")  # Remove axes\n",
    "ax.text(\n",
    "    0.5, 0.5, table_text, fontsize=12, va=\"center\", ha=\"center\", fontfamily=\"monospace\"\n",
    ")\n",
    "\n",
    "print(\"image\")\n",
    "plt.savefig(\"table_label.png\", dpi=300)\n",
    "plt.show()"
   ]
  },
  {
   "cell_type": "markdown",
   "metadata": {
    "id": "3YZxAnBKaGo8"
   },
   "source": [
    "# 파라미터 표(각자 실행)\n",
    "\n",
    "- 어떤 파라미터로 실험했는지 적으면 될 것 같습니다.\n",
    "- 표의 구성요소들은 모델마다 달라질 것 같은데, 각자 잘 적으면 될 것 같아요\n"
   ]
  },
  {
   "cell_type": "code",
   "execution_count": null,
   "metadata": {
    "colab": {
     "base_uri": "https://localhost:8080/",
     "height": 482
    },
    "id": "lFYoncwNV77L",
    "outputId": "9a5bc9b6-d458-4a54-a297-01361b081b8d"
   },
   "outputs": [],
   "source": [
    "import pandas as pd\n",
    "from tabulate import tabulate\n",
    "import matplotlib.pyplot as plt\n",
    "\n",
    "# 데이터 생성\n",
    "data = [\n",
    "    [\"Input size\", \"224 × 224\"],\n",
    "    [\"Epoch\", \"60\"],\n",
    "    [\"Activation function\", \"Sigmoid\"],\n",
    "    [\"Batch size\", \"8\"],\n",
    "    [\"Optimizer\", \"AdaGrad, RMS Prop, Adam\"],\n",
    "    [\"Learning rate\", \"0.01, 0.001\"],\n",
    "]\n",
    "df = pd.DataFrame(data, columns=[\"Parameter\", \"Value\"])\n",
    "\n",
    "# tabulate로 텍스트 기반 표 생성\n",
    "table_text = tabulate(df, headers=\"keys\", tablefmt=\"fancy_outline\", showindex=False)\n",
    "\n",
    "print(\"text\")\n",
    "print(table_text)\n",
    "\n",
    "# Matplotlib으로 표를 이미지로 렌더링\n",
    "fig, ax = plt.subplots(figsize=(6, 3))\n",
    "ax.axis(\"off\")  # Remove axes\n",
    "ax.text(\n",
    "    0.5, 0.5, table_text, fontsize=12, va=\"center\", ha=\"center\", fontfamily=\"monospace\"\n",
    ")\n",
    "\n",
    "print(\"image\")\n",
    "plt.savefig(\"table_parameter.png\", dpi=300)\n",
    "plt.show()"
   ]
  },
  {
   "cell_type": "markdown",
   "metadata": {
    "id": "EgVZmMx_oeyR"
   },
   "source": [
    "# 실험 표 & 그래프(각자 실행)\n",
    "\n",
    "- 실험 결과를 적으면 됩니다. test accuracy 기준입니다.\n"
   ]
  },
  {
   "cell_type": "code",
   "execution_count": null,
   "metadata": {
    "colab": {
     "base_uri": "https://localhost:8080/",
     "height": 411
    },
    "id": "40I5OWdAaJY9",
    "outputId": "2925aa9f-55f8-4d8e-911a-66406e083252"
   },
   "outputs": [],
   "source": [
    "import pandas as pd\n",
    "from tabulate import tabulate\n",
    "import matplotlib.pyplot as plt\n",
    "\n",
    "# 데이터 생성\n",
    "data = {\n",
    "    \"Batch Size: 8\": [0.95, 0.94],\n",
    "    \"Batch Size: 16\": [0.95, 0.94],\n",
    "    \"Batch Size: 32\": [0.95, 0.94],\n",
    "    \"Batch Size: 64\": [0.95, 0.94],\n",
    "    \"Batch Size: 128\": [0.95, 0.94],\n",
    "}\n",
    "index = [\"Learning Rate: 1e-3\", \"Learning Rate: 1e-4\"]\n",
    "df = pd.DataFrame(data, index=index)\n",
    "\n",
    "# tabulate로 텍스트 기반 표 생성\n",
    "table_text = tabulate(df, headers=\"keys\", tablefmt=\"fancy_outline\")\n",
    "\n",
    "print(\"text\")\n",
    "print(table_text)\n",
    "\n",
    "# Matplotlib으로 표를 이미지로 렌더링\n",
    "fig, ax = plt.subplots(figsize=(6, 3))\n",
    "ax.axis(\"off\")  # Remove axes\n",
    "ax.text(\n",
    "    0.5, 0.5, table_text, fontsize=12, va=\"center\", ha=\"center\", fontfamily=\"monospace\"\n",
    ")\n",
    "\n",
    "print(\"image\")\n",
    "plt.savefig(\"table_experiment.png\", dpi=300)\n",
    "plt.show()"
   ]
  },
  {
   "cell_type": "code",
   "execution_count": null,
   "metadata": {
    "colab": {
     "base_uri": "https://localhost:8080/",
     "height": 607
    },
    "id": "XhhznyxNdr_E",
    "outputId": "bb4f9724-c65c-4b56-ee06-67365fe2f3ea"
   },
   "outputs": [],
   "source": [
    "import matplotlib.pyplot as plt\n",
    "import numpy as np\n",
    "\n",
    "# Example data\n",
    "batch_sizes = [8, 16, 32, 64, 128]  # Batch sizes (x-axis)\n",
    "learning_rates = [1e-3, 1e-4]  # Learning rates (categories)\n",
    "data = {\n",
    "    1e-3: [0.3, 0.4, 0.5, 0.6, 0.7],\n",
    "    1e-4: [0.5, 0.6, 0.7, 0.8, 0.9],\n",
    "}\n",
    "\n",
    "# Plotting\n",
    "bar_width = 0.35  # Adjust bar width for better spacing\n",
    "x_positions = np.arange(len(batch_sizes))  # Positions for the batch sizes on the x-axis\n",
    "\n",
    "plt.figure(figsize=(10, 6))\n",
    "\n",
    "for i, lr in enumerate(learning_rates):\n",
    "    offset = (\n",
    "        i - len(learning_rates) / 2\n",
    "    ) * bar_width  # Calculate offset for each learning rate\n",
    "    plt.bar(x_positions + offset, data[lr], width=bar_width, label=f\"LR={lr}\")\n",
    "\n",
    "# Customize the plot\n",
    "plt.xticks(x_positions, batch_sizes)  # Set batch sizes as x-axis labels\n",
    "plt.xlabel(\"Batch Sizes\")\n",
    "plt.ylabel(\"Test Accuracies\")\n",
    "plt.title(\"Test Accuracies for Different Learning Rates and Batch Sizes\")\n",
    "plt.legend(title=\"Learning Rate\", loc=\"lower right\")\n",
    "plt.grid(axis=\"y\", linestyle=\"--\", alpha=0.7)\n",
    "plt.tight_layout()\n",
    "\n",
    "# Show the plot\n",
    "plt.savefig(\"graph_experiment.png\", dpi=300)\n",
    "plt.show()"
   ]
  },
  {
   "cell_type": "markdown",
   "metadata": {
    "id": "Gi6Ovfa9pztt"
   },
   "source": [
    "# 모델별 비교 표\n",
    "\n",
    "- 이건 수요일에 값 넣어서 같이 만들면 될 것 같아요\n"
   ]
  },
  {
   "cell_type": "code",
   "execution_count": null,
   "metadata": {
    "colab": {
     "base_uri": "https://localhost:8080/",
     "height": 429
    },
    "id": "ay58MP-Cp48l",
    "outputId": "197d9aaa-e806-4484-a628-a6eaf1978e40"
   },
   "outputs": [],
   "source": [
    "import pandas as pd\n",
    "from tabulate import tabulate\n",
    "import matplotlib.pyplot as plt\n",
    "\n",
    "# 데이터 생성\n",
    "data = [\n",
    "    [\"VGG\", \"0.9999\"],\n",
    "    [\"ResNet\", \"0.9999\"],\n",
    "    [\"Googlenet\", \"0.9999\"],\n",
    "]\n",
    "df = pd.DataFrame(data, columns=[\"Model\", \"Test Accuracy\"])\n",
    "\n",
    "# tabulate로 텍스트 기반 표 생성\n",
    "table_text = tabulate(df, headers=\"keys\", tablefmt=\"fancy_outline\", showindex=False)\n",
    "\n",
    "print(\"text\")\n",
    "print(table_text)\n",
    "\n",
    "# Matplotlib으로 표를 이미지로 렌더링\n",
    "fig, ax = plt.subplots(figsize=(6, 3))\n",
    "ax.axis(\"off\")  # Remove axes\n",
    "ax.text(\n",
    "    0.5, 0.5, table_text, fontsize=12, va=\"center\", ha=\"center\", fontfamily=\"monospace\"\n",
    ")\n",
    "\n",
    "print(\"image\")\n",
    "plt.savefig(\"table_models.png\", dpi=300, bbox_inches=\"tight\")\n",
    "plt.show()"
   ]
  }
 ],
 "metadata": {
  "colab": {
   "collapsed_sections": [
    "fkpHc9S0Z69R",
    "EgVZmMx_oeyR"
   ],
   "provenance": []
  },
  "kernelspec": {
   "display_name": "venv",
   "language": "python",
   "name": "python3"
  },
  "language_info": {
   "codemirror_mode": {
    "name": "ipython",
    "version": 3
   },
   "file_extension": ".py",
   "mimetype": "text/x-python",
   "name": "python",
   "nbconvert_exporter": "python",
   "pygments_lexer": "ipython3",
   "version": "3.12.0"
  }
 },
 "nbformat": 4,
 "nbformat_minor": 0
}
